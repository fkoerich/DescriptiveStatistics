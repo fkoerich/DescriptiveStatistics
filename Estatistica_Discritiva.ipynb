{
  "nbformat": 4,
  "nbformat_minor": 0,
  "metadata": {
    "colab": {
      "name": "Estatistica_Discritiva.ipynb",
      "provenance": [],
      "collapsed_sections": [],
      "toc_visible": true,
      "include_colab_link": true
    },
    "kernelspec": {
      "name": "python3",
      "display_name": "Python 3"
    },
    "language_info": {
      "name": "python"
    }
  },
  "cells": [
    {
      "cell_type": "markdown",
      "metadata": {
        "id": "view-in-github",
        "colab_type": "text"
      },
      "source": [
        "<a href=\"https://colab.research.google.com/github/fkoerich/DescriptiveStatistics/blob/main/Estatistica_Discritiva.ipynb\" target=\"_parent\"><img src=\"https://colab.research.google.com/assets/colab-badge.svg\" alt=\"Open In Colab\"/></a>"
      ]
    },
    {
      "cell_type": "code",
      "metadata": {
        "id": "dV0Q9a5L2KYQ"
      },
      "source": [
        "#Abre o arquivo com os dados no modo leitura\n",
        "#file = open('/content/sample_data/adultos.txt','r')\n",
        "import urllib\n",
        "\n",
        "file = urllib.request.urlopen('https://archive.ics.uci.edu/ml/machine-learning-databases/adult/adult.data')\n",
        "\n",
        "def chr_int(a):\n",
        "  if a.isdigit(): return int(a) \n",
        "  else: return 0\n",
        "  \n",
        "data = []\n",
        "for line in file:\n",
        "  decoded_line = line.decode(\"utf-8\")\n",
        "  data1 = decoded_line.split(', ') \n",
        "  if len(data1) == 15:\n",
        "    data.append([chr_int(data1[0]), data1[1], chr_int(data1[2]), data1[3], \n",
        "                 chr_int(data1[4]), data1[5], data1[6], data1[7], data1[8], \n",
        "                 data1[9], chr_int(data1[10]), chr_int(data1[11]), \n",
        "                 chr_int(data1[12]), data1[13], data1[14]])"
      ],
      "execution_count": 93,
      "outputs": []
    },
    {
      "cell_type": "code",
      "metadata": {
        "id": "BQHF6PTF5AiN",
        "colab": {
          "base_uri": "https://localhost:8080/"
        },
        "outputId": "7cdcfe74-08ad-425d-a6d8-8703ee5281e3"
      },
      "source": [
        "#PRINT DATA\n",
        "print(data[1:2])"
      ],
      "execution_count": 94,
      "outputs": [
        {
          "output_type": "stream",
          "text": [
            "[[50, 'Self-emp-not-inc', 83311, 'Bachelors', 13, 'Married-civ-spouse', 'Exec-managerial', 'Husband', 'White', 'Male', 0, 0, 13, 'United-States', '<=50K\\n']]\n"
          ],
          "name": "stdout"
        }
      ]
    },
    {
      "cell_type": "code",
      "metadata": {
        "colab": {
          "base_uri": "https://localhost:8080/"
        },
        "id": "VhOdtlwN5NMZ",
        "outputId": "af545ba9-6521-4a28-d315-52772e8600c4"
      },
      "source": [
        "#DATA FRAME WITH PADAS, SHOW NUMBER OF ROWS\n",
        "import pandas as pd\n",
        "\n",
        "df = pd.DataFrame(data) \n",
        "\n",
        "#Colunas do Date Frame\n",
        "df.columns = [\n",
        "  'age', 'type_employer', 'fnlwgt', 'education', 'education_num', 'marital', \n",
        "  'occupation',' relationship', 'race', 'sex', 'capital_gain', 'capital_loss', \n",
        "  'hr_per_week', 'country', 'income'\n",
        "]\n",
        "\n",
        "df.shape #Mostra a quantidade de Registros"
      ],
      "execution_count": 95,
      "outputs": [
        {
          "output_type": "execute_result",
          "data": {
            "text/plain": [
              "(32561, 15)"
            ]
          },
          "metadata": {
            "tags": []
          },
          "execution_count": 95
        }
      ]
    },
    {
      "cell_type": "code",
      "metadata": {
        "id": "PZxRiaWf5jdg",
        "colab": {
          "base_uri": "https://localhost:8080/"
        },
        "outputId": "f2764635-b577-4cc0-c459-af0b4eba901a"
      },
      "source": [
        "#Agrupa por países\n",
        "counts = df.groupby('country').size() \n",
        "\n",
        "print(counts.head())\n",
        "#Primeira linha mostra os que não tem 'country'"
      ],
      "execution_count": 96,
      "outputs": [
        {
          "output_type": "stream",
          "text": [
            "country\n",
            "?           583\n",
            "Cambodia     19\n",
            "Canada      121\n",
            "China        75\n",
            "Columbia     59\n",
            "dtype: int64\n"
          ],
          "name": "stdout"
        }
      ]
    },
    {
      "cell_type": "code",
      "metadata": {
        "colab": {
          "base_uri": "https://localhost:8080/"
        },
        "id": "c-UGRgz37oRq",
        "outputId": "463a9ecc-3f5c-4c4d-fda1-4f549879cba4"
      },
      "source": [
        "#Vai pegar do sexo Masculino\n",
        "ml = df[(df.sex == 'Male')]\n",
        "\n",
        "#Vai pegar do sexo Masculino que ganha mais que 50 mil\n",
        "ml1 = df[(df.sex == 'Male') & (df.income=='>50K\\n') ]\n",
        "\n",
        "#Vai pegar do sexo Feminino\n",
        "fm = df[(df.sex == 'Female')]\n",
        "\n",
        "#Vai pegar do sexo Feminino que ganha mais que 50 mil\n",
        "fm1 = df[(df.sex == 'Female') & (df.income=='>50K\\n')]\n",
        "\n",
        "#Profissinais com altos salários\n",
        "df1 = df[(df.income=='>50K\\n')]\n",
        "\n",
        "#Mostra a proporção de pessoas com altos salários\n",
        "print ('The rate of people with high income is: ', int(len(df1)/float(len(df))*100), '%.')\n",
        "\n",
        "#Mostra a proporção de homens com altos salários\n",
        "print ('The rate of men with high income is: ', int(len(ml1)/float(len(ml))*100), '%.')\n",
        "\n",
        "#Mostra a proporção de mulhers com altos salários\n",
        "print ('The rate of women with high income is: ', int(len(fm1)/float(len(fm))*100), '%.')\n"
      ],
      "execution_count": 98,
      "outputs": [
        {
          "output_type": "stream",
          "text": [
            "The rate of people with high income is:  24 %.\n",
            "The rate of men with high income is:  30 %.\n",
            "The rate of women with high income is:  10 %.\n"
          ],
          "name": "stdout"
        }
      ]
    },
    {
      "cell_type": "code",
      "metadata": {
        "colab": {
          "base_uri": "https://localhost:8080/"
        },
        "id": "S9vgHoS0A5XG",
        "outputId": "43752078-43f5-4e6f-a36f-db3befae6c9c"
      },
      "source": [
        "#Calculo das Médias\n",
        "\n",
        "#Média de idade dos homens\n",
        "print ('The average age of men is: ', ml['age'].mean())\n",
        "\n",
        "#Média de idade das mulheres\n",
        "print ('The average age of women is: ', fm['age'].mean())\n",
        "\n",
        "#Média de idade dos homens que ganham altos saláários\n",
        "print ('The average age of high-income men is: ', ml1['age'].mean())\n",
        "\n",
        "#Média de idade das mulhers que ganham altos saláários\n",
        "print ('The average age of high-income women is: ', fm1['age'].mean())\n"
      ],
      "execution_count": 99,
      "outputs": [
        {
          "output_type": "stream",
          "text": [
            "The average age of men is:  39.43354749885268\n",
            "The average age of women is:  36.85823043357163\n",
            "The average age of high-income men is:  44.62578805163614\n",
            "The average age of high-income women is:  42.125530110262936\n"
          ],
          "name": "stdout"
        }
      ]
    },
    {
      "cell_type": "code",
      "metadata": {
        "colab": {
          "base_uri": "https://localhost:8080/"
        },
        "id": "YY1Ugko1CCHh",
        "outputId": "ccf7ccf4-4417-4141-d8fa-bee0494059ba"
      },
      "source": [
        "#Calculo da Variancia\n",
        "\n",
        "#Média de idade dos homens\n",
        "ml_mu = ml['age'].mean()\n",
        "#Média de idade das mulheres\n",
        "fm_mu = fm['age'].mean()\n",
        "\n",
        "#Variância da idade dos homens\n",
        "ml_var = ml['age'].var()\n",
        "#Variância da idade das mulheres\n",
        "fm_var = fm['age'].var()\n",
        "\n",
        "#Desvio Padrão da idade dos homens\n",
        "ml_std = ml['age'].std()\n",
        "#Desvio Padrão da idade das mulheres\n",
        "fm_std = fm['age'].std()\n",
        "\n",
        "\n",
        "print ('Statistics of age for men: mu:', ml_mu, 'var:', ml_var, 'std:', ml_std )\n",
        "print ('Statistics of age for women: mu:', fm_mu, 'var:', fm_var, 'std:', fm_std )"
      ],
      "execution_count": 100,
      "outputs": [
        {
          "output_type": "stream",
          "text": [
            "Statistics of age for men: mu: 39.43354749885268 var: 178.77375174530096 std: 13.37063019252649\n",
            "Statistics of age for women: mu: 36.85823043357163 var: 196.3837063948037 std: 14.01369709943824\n"
          ],
          "name": "stdout"
        }
      ]
    },
    {
      "cell_type": "code",
      "metadata": {
        "colab": {
          "base_uri": "https://localhost:8080/"
        },
        "id": "TQFsVHnLDAgY",
        "outputId": "04fe51b5-c0f8-40c2-a74c-ff2ff8a277f8"
      },
      "source": [
        "#Calculo da Mediana\n",
        "\n",
        "#Mediana da idade dos Homens\n",
        "ml_median = ml['age'].median()\n",
        "#Mediana da idade dos Homens\n",
        "fm_median = fm['age'].median()\n",
        "\n",
        "print (\"Median age per men and women: \", ml_median, fm_median)\n",
        "\n",
        "#Mediana da idade dos Homens com altos salários\n",
        "ml_median_age = ml1['age'].median() \n",
        "#Mediana da idade das Mulheres com altos salários\n",
        "fm_median_age = fm1['age'].median()\n",
        "\n",
        "print (\"Median age per men and women with high-income: \", ml_median_age, fm_median_age)"
      ],
      "execution_count": 101,
      "outputs": [
        {
          "output_type": "stream",
          "text": [
            "Median age per men and women:  38.0 35.0\n",
            "Median age per men and women with high-income:  44.0 41.0\n"
          ],
          "name": "stdout"
        }
      ]
    },
    {
      "cell_type": "code",
      "metadata": {
        "colab": {
          "base_uri": "https://localhost:8080/",
          "height": 283
        },
        "id": "69Jvn944DbLD",
        "outputId": "70496d28-0fa4-4727-e848-ac4ff6ec1a97"
      },
      "source": [
        "#Quantil e Percentil\n",
        "\n",
        "#Histograma das idades do homem\n",
        "ml_age = ml['age']\n",
        "ml_age.hist(density=False, histtype = 'stepfilled', bins = 20)\n"
      ],
      "execution_count": 102,
      "outputs": [
        {
          "output_type": "execute_result",
          "data": {
            "text/plain": [
              "<matplotlib.axes._subplots.AxesSubplot at 0x7fe0d3372790>"
            ]
          },
          "metadata": {
            "tags": []
          },
          "execution_count": 102
        },
        {
          "output_type": "display_data",
          "data": {
            "image/png": "[encoded data removed]",
            "text/plain": [
              "<Figure size 432x288 with 1 Axes>"
            ]
          },
          "metadata": {
            "tags": [],
            "needs_background": "light"
          }
        }
      ]
    },
    {
      "cell_type": "code",
      "metadata": {
        "colab": {
          "base_uri": "https://localhost:8080/",
          "height": 283
        },
        "id": "Vv_239cXEQdx",
        "outputId": "f5a0a721-b1cf-45cc-ff5f-a9137a1acaa4"
      },
      "source": [
        "#Quantil e Percentil \n",
        "\n",
        "#Histograma das idades da mulher\n",
        "fm_age = fm['age']\n",
        "fm_age.hist(density=False, histtype = 'stepfilled', bins = 10, color = 'pink')"
      ],
      "execution_count": 103,
      "outputs": [
        {
          "output_type": "execute_result",
          "data": {
            "text/plain": [
              "<matplotlib.axes._subplots.AxesSubplot at 0x7fe0da20cad0>"
            ]
          },
          "metadata": {
            "tags": []
          },
          "execution_count": 103
        },
        {
          "output_type": "display_data",
          "data": {
            "image/png": "[encoded data removed]",
            "text/plain": [
              "<Figure size 432x288 with 1 Axes>"
            ]
          },
          "metadata": {
            "tags": [],
            "needs_background": "light"
          }
        }
      ]
    },
    {
      "cell_type": "code",
      "metadata": {
        "colab": {
          "base_uri": "https://localhost:8080/",
          "height": 283
        },
        "id": "q7d7E6sHEmeW",
        "outputId": "cc1a531e-d25f-40ab-8126-18902e5833cc"
      },
      "source": [
        "#Quantil e Percentil Sample\n",
        "import seaborn as sns \n",
        "\n",
        "ml_age.hist(density=False, alpha = .5, histtype = 'stepfilled', bins = 10)\n",
        "\n",
        "fm_age.hist(density=False, alpha = .5, histtype = 'stepfilled', bins = 20, \n",
        "            color = sns.desaturate(\"indianred\", .75))"
      ],
      "execution_count": 104,
      "outputs": [
        {
          "output_type": "execute_result",
          "data": {
            "text/plain": [
              "<matplotlib.axes._subplots.AxesSubplot at 0x7fe0c51c9510>"
            ]
          },
          "metadata": {
            "tags": []
          },
          "execution_count": 104
        },
        {
          "output_type": "display_data",
          "data": {
            "image/png": "[encoded data removed]",
            "text/plain": [
              "<Figure size 432x288 with 1 Axes>"
            ]
          },
          "metadata": {
            "tags": [],
            "needs_background": "light"
          }
        }
      ]
    },
    {
      "cell_type": "code",
      "metadata": {
        "colab": {
          "base_uri": "https://localhost:8080/",
          "height": 283
        },
        "id": "JRatfLcAG2uI",
        "outputId": "3b96bb73-deae-4cd8-d0de-65ecb77ff89c"
      },
      "source": [
        "#Probability Mass Funciontion (PMF)\n",
        "#import seaborn as sns \n",
        "\n",
        "ml_age.hist(density=True, alpha = .5, histtype = 'stepfilled', bins = 10)\n",
        "\n",
        "fm_age.hist(density=True, alpha = .5, histtype = 'stepfilled', bins = 20, \n",
        "            color = sns.desaturate(\"indianred\", .75))\n"
      ],
      "execution_count": 107,
      "outputs": [
        {
          "output_type": "execute_result",
          "data": {
            "text/plain": [
              "<matplotlib.axes._subplots.AxesSubplot at 0x7fe0d508e790>"
            ]
          },
          "metadata": {
            "tags": []
          },
          "execution_count": 107
        },
        {
          "output_type": "display_data",
          "data": {
            "image/png": "[encoded data removed]",
            "text/plain": [
              "<Figure size 432x288 with 1 Axes>"
            ]
          },
          "metadata": {
            "tags": [],
            "needs_background": "light"
          }
        }
      ]
    },
    {
      "cell_type": "code",
      "metadata": {
        "colab": {
          "base_uri": "https://localhost:8080/",
          "height": 283
        },
        "id": "x61Tb3Z9I9Na",
        "outputId": "4fba7cf0-20d0-46fd-c04a-87d44d3ca658"
      },
      "source": [
        "#Cumulative Distribution Function CDF\n",
        "\n",
        "ml_age.hist(density=True, histtype = 'step', cumulative = True, linewidth = 3.5, \n",
        "            bins = 20) \n",
        "\n",
        "fm_age.hist(density=True, histtype='step', cumulative = True, linewidth = 3.5, \n",
        "            bins = 20, color = sns.desaturate(\"indianred\",.75))"
      ],
      "execution_count": 108,
      "outputs": [
        {
          "output_type": "execute_result",
          "data": {
            "text/plain": [
              "<matplotlib.axes._subplots.AxesSubplot at 0x7fe0d583da50>"
            ]
          },
          "metadata": {
            "tags": []
          },
          "execution_count": 108
        },
        {
          "output_type": "display_data",
          "data": {
            "image/png": "[encoded data removed]",
            "text/plain": [
              "<Figure size 432x288 with 1 Axes>"
            ]
          },
          "metadata": {
            "tags": [],
            "needs_background": "light"
          }
        }
      ]
    },
    {
      "cell_type": "code",
      "metadata": {
        "id": "yEuUUYv5Jl8b"
      },
      "source": [
        "#Outliers -> Retirar maior que 72 e menor que 22 anos\n",
        "\n",
        "\n",
        "#Remoção dos Outliers\n",
        "df2 = df.drop(df.index[(df.income == '>50K\\n') & \n",
        "                       (df['age'] > df['age'].median() + 35) & \n",
        "                       (df['age'] > df['age'].median() - 15)])\n",
        "\n",
        "ml1_age = ml1['age']\n",
        "fm1_age = fm1['age']\n",
        "\n",
        "#Homens da base removidos os outliers\n",
        "ml2_age = ml1_age.drop( ml1_age.index[ (ml1_age > df['age'].median() + 35) \n",
        "                            & (ml1_age > df['age'].median() - 15) ])\n",
        "#Mulhes da base removidos os outliers\n",
        "fm2_age = fm1_age.drop( fm1_age.index[ (fm1_age > df['age'].median() + 35) \n",
        "                            & (fm1_age > df['age'].median() - 15) ])\n"
      ],
      "execution_count": 109,
      "outputs": []
    },
    {
      "cell_type": "code",
      "metadata": {
        "colab": {
          "base_uri": "https://localhost:8080/"
        },
        "id": "BEqTADKoK3WD",
        "outputId": "28e8fb4f-96cf-48e7-83d8-319555dc01fd"
      },
      "source": [
        "#Estatisticas sem os Outliers\n",
        "\n",
        "#Homens\n",
        "mu2ml = ml2_age.mean() \n",
        "std2ml = ml2_age.std() \n",
        "md2ml = ml2_age.median() \n",
        "\n",
        "#Mulheres\n",
        "mu2fm = fm2_age.mean() \n",
        "std2fm = fm2_age.std() \n",
        "md2fm = fm2_age.median()\n",
        "\n",
        "print (\"Men statistics:\", \"Mean:\", mu2ml, \"Std:\", std2ml,\"Median:\", md2ml,\n",
        "       \"Min:\", ml2_age.min(), \"Max:\", ml2_age.max())\n",
        "\n",
        "print (\"Women statistics:\",\"Mean:\", mu2fm, \"Std:\", std2fm,\"Median:\", md2fm,\n",
        "\n",
        "       \"Min:\", fm2_age.min(), \"Max:\", fm2_age.max())"
      ],
      "execution_count": 110,
      "outputs": [
        {
          "output_type": "stream",
          "text": [
            "Men statistics: Mean: 44.317982123920615 Std: 10.019749857171412 Median: 44.0 Min: 19 Max: 72\n",
            "Women statistics: Mean: 41.877028181041844 Std: 10.036441807343714 Median: 41.0 Min: 19 Max: 72\n"
          ],
          "name": "stdout"
        }
      ]
    },
    {
      "cell_type": "code",
      "metadata": {
        "colab": {
          "base_uri": "https://localhost:8080/",
          "height": 338
        },
        "id": "eypU2TiLLZl6",
        "outputId": "aed62935-db51-492b-efc5-1b547734812d"
      },
      "source": [
        "from matplotlib import pyplot as plt\n",
        "\n",
        "plt.figure(figsize = (13.4, 5)) \n",
        "\n",
        "#Grafico com todos os dados\n",
        "df.age[(df.income == '>50K\\n')].plot(alpha = .25, color = 'blue') \n",
        "\n",
        "#Grafico com a remocão dos Outliers\n",
        "df2.age[(df2.income == '>50K\\n')].plot(alpha = .45, color = 'red')"
      ],
      "execution_count": 111,
      "outputs": [
        {
          "output_type": "execute_result",
          "data": {
            "text/plain": [
              "<matplotlib.axes._subplots.AxesSubplot at 0x7fe0c5b2f690>"
            ]
          },
          "metadata": {
            "tags": []
          },
          "execution_count": 111
        },
        {
          "output_type": "display_data",
          "data": {
            "image/png": "[encoded data removed]",
            "text/plain": [
              "<Figure size 964.8x360 with 1 Axes>"
            ]
          },
          "metadata": {
            "tags": [],
            "needs_background": "light"
          }
        }
      ]
    },
    {
      "cell_type": "code",
      "metadata": {
        "id": "7CULqGf2LmXm",
        "colab": {
          "base_uri": "https://localhost:8080/"
        },
        "outputId": "81ae19de-62cf-4ebe-f8aa-fdc6c84be900"
      },
      "source": [
        "#Diferenças da Médias de idade entre Homens e Mulheres\n",
        "\n",
        "#Com Outliers\n",
        "print ('The mean difference with outliers is: %4.2f. '% (ml_age.mean() - fm_age.mean()))\n",
        "#Sem Outliers\n",
        "print ('The mean difference without outliers is: %4.2f.'% (ml2_age.mean() - fm2_age.mean()))"
      ],
      "execution_count": 112,
      "outputs": [
        {
          "output_type": "stream",
          "text": [
            "The mean difference with outliers is: 2.58. \n",
            "The mean difference without outliers is: 2.44.\n"
          ],
          "name": "stdout"
        }
      ]
    },
    {
      "cell_type": "code",
      "metadata": {
        "colab": {
          "base_uri": "https://localhost:8080/",
          "height": 283
        },
        "id": "-Ov27zfoMXpY",
        "outputId": "f22849e4-763c-46ea-9646-4cc3b75429ed"
      },
      "source": [
        "from matplotlib import pyplot as plt\n",
        "import numpy as np\n",
        "\n",
        "#Diferença nos salários dos Homens e Mulheres\n",
        "countx, divisionx = np.histogram(ml2_age, density=True)\n",
        "county, divisiony = np.histogram(fm2_age, density=True)\n",
        "val = [(divisionx[i] + divisionx[i+1])/2 for i in range(len(divisionx) - 1)]\n",
        "plt.plot(val, countx - county, 'o-')\n"
      ],
      "execution_count": 113,
      "outputs": [
        {
          "output_type": "execute_result",
          "data": {
            "text/plain": [
              "[<matplotlib.lines.Line2D at 0x7fe0d3468310>]"
            ]
          },
          "metadata": {
            "tags": []
          },
          "execution_count": 113
        },
        {
          "output_type": "display_data",
          "data": {
            "image/png": "[encoded data removed]",
            "text/plain": [
              "<Figure size 432x288 with 1 Axes>"
            ]
          },
          "metadata": {
            "tags": [],
            "needs_background": "light"
          }
        }
      ]
    },
    {
      "cell_type": "code",
      "metadata": {
        "colab": {
          "base_uri": "https://localhost:8080/"
        },
        "id": "ZYxnicpOODbY",
        "outputId": "a6743869-6d56-4aa7-bf83-21ecd8b43ccf"
      },
      "source": [
        "#Distorção(Skewness) ##ASSIMETRIA\n",
        "\n",
        "def skewness(x):\n",
        "  res = 0\n",
        "  m = x.mean()\n",
        "  s = x.std()\n",
        "  for i in x:\n",
        "    res += (i-m) * (i-m) * (i-m)\n",
        "  res /= (len(x) * s * s * s)\n",
        "  return res\n",
        "\n",
        "print (\"Skewness of the male population = \", skewness(ml2_age))\n",
        "print (\"Skewness of the female population is = \", skewness(fm2_age))\n",
        "\n"
      ],
      "execution_count": 114,
      "outputs": [
        {
          "output_type": "stream",
          "text": [
            "Skewness of the male population =  0.2664443838432819\n",
            "Skewness of the female population is =  0.38633352491285977\n"
          ],
          "name": "stdout"
        }
      ]
    },
    {
      "cell_type": "code",
      "metadata": {
        "colab": {
          "base_uri": "https://localhost:8080/"
        },
        "id": "MsqCwGzOO5b1",
        "outputId": "8d467475-36b7-4777-c983-4b2fc427fcc5"
      },
      "source": [
        "#Pearson’s median skewness coefficient ## COEFICIENTE DE PERSON\n",
        "\n",
        "def pearson(x): \n",
        "  return 3 * (x.mean() - x.median()) * x.std()\n",
        "\n",
        "print (\"Pearson’s coefficient of the male population = \", pearson(ml2_age))\n",
        "print (\"Pearson’s coefficient of the female population = \", pearson(fm2_age))"
      ],
      "execution_count": 115,
      "outputs": [
        {
          "output_type": "stream",
          "text": [
            "Pearson’s coefficient of the male population =  9.55830402220993\n",
            "Pearson’s coefficient of the female population =  26.40672690728092\n"
          ],
          "name": "stdout"
        }
      ]
    }
  ]
}